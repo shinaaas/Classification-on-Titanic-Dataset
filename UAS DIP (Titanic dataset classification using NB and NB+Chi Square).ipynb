{
  "cells": [
    {
      "cell_type": "markdown",
      "metadata": {
        "id": "44xraExsZO2T"
      },
      "source": [
        "# UAS Data, Informasi dan Pengetahuan"
      ]
    },
    {
      "cell_type": "markdown",
      "metadata": {
        "id": "e-G2q-cjZO3J"
      },
      "source": [
        "# Tanpa Feature Selection"
      ]
    },
    {
      "cell_type": "code",
      "execution_count": null,
      "metadata": {
        "id": "5Qk6nTJ5ZO3L"
      },
      "outputs": [],
      "source": [
        "import pandas as pd\n",
        "import numpy as np"
      ]
    },
    {
      "cell_type": "code",
      "execution_count": null,
      "metadata": {
        "id": "JGEKVsa8ZO3S",
        "outputId": "659956db-dda2-43f8-b114-27b0c109fef4"
      },
      "outputs": [
        {
          "data": {
            "text/html": [
              "<div>\n",
              "<style scoped>\n",
              "    .dataframe tbody tr th:only-of-type {\n",
              "        vertical-align: middle;\n",
              "    }\n",
              "\n",
              "    .dataframe tbody tr th {\n",
              "        vertical-align: top;\n",
              "    }\n",
              "\n",
              "    .dataframe thead th {\n",
              "        text-align: right;\n",
              "    }\n",
              "</style>\n",
              "<table border=\"1\" class=\"dataframe\">\n",
              "  <thead>\n",
              "    <tr style=\"text-align: right;\">\n",
              "      <th></th>\n",
              "      <th>pclass</th>\n",
              "      <th>survived</th>\n",
              "      <th>name</th>\n",
              "      <th>sex</th>\n",
              "      <th>age</th>\n",
              "      <th>sibsp</th>\n",
              "      <th>parch</th>\n",
              "      <th>ticket</th>\n",
              "      <th>fare</th>\n",
              "      <th>cabin</th>\n",
              "      <th>embarked</th>\n",
              "      <th>boat</th>\n",
              "      <th>home.dest</th>\n",
              "    </tr>\n",
              "  </thead>\n",
              "  <tbody>\n",
              "    <tr>\n",
              "      <th>0</th>\n",
              "      <td>1</td>\n",
              "      <td>1</td>\n",
              "      <td>Allen, Miss. Elisabeth Walton</td>\n",
              "      <td>female</td>\n",
              "      <td>29.0000</td>\n",
              "      <td>0</td>\n",
              "      <td>0</td>\n",
              "      <td>24160</td>\n",
              "      <td>211.3375</td>\n",
              "      <td>B5</td>\n",
              "      <td>S</td>\n",
              "      <td>2</td>\n",
              "      <td>St Louis, MO</td>\n",
              "    </tr>\n",
              "    <tr>\n",
              "      <th>1</th>\n",
              "      <td>1</td>\n",
              "      <td>1</td>\n",
              "      <td>Allison, Master. Hudson Trevor</td>\n",
              "      <td>male</td>\n",
              "      <td>0.9167</td>\n",
              "      <td>1</td>\n",
              "      <td>2</td>\n",
              "      <td>113781</td>\n",
              "      <td>151.5500</td>\n",
              "      <td>C22 C26</td>\n",
              "      <td>S</td>\n",
              "      <td>11</td>\n",
              "      <td>Montreal, PQ / Chesterville, ON</td>\n",
              "    </tr>\n",
              "    <tr>\n",
              "      <th>2</th>\n",
              "      <td>1</td>\n",
              "      <td>0</td>\n",
              "      <td>Allison, Miss. Helen Loraine</td>\n",
              "      <td>female</td>\n",
              "      <td>2.0000</td>\n",
              "      <td>1</td>\n",
              "      <td>2</td>\n",
              "      <td>113781</td>\n",
              "      <td>151.5500</td>\n",
              "      <td>C22 C26</td>\n",
              "      <td>S</td>\n",
              "      <td>NaN</td>\n",
              "      <td>Montreal, PQ / Chesterville, ON</td>\n",
              "    </tr>\n",
              "    <tr>\n",
              "      <th>3</th>\n",
              "      <td>1</td>\n",
              "      <td>0</td>\n",
              "      <td>Allison, Mr. Hudson Joshua Creighton</td>\n",
              "      <td>male</td>\n",
              "      <td>30.0000</td>\n",
              "      <td>1</td>\n",
              "      <td>2</td>\n",
              "      <td>113781</td>\n",
              "      <td>151.5500</td>\n",
              "      <td>C22 C26</td>\n",
              "      <td>S</td>\n",
              "      <td>NaN</td>\n",
              "      <td>Montreal, PQ / Chesterville, ON</td>\n",
              "    </tr>\n",
              "    <tr>\n",
              "      <th>4</th>\n",
              "      <td>1</td>\n",
              "      <td>0</td>\n",
              "      <td>Allison, Mrs. Hudson J C (Bessie Waldo Daniels)</td>\n",
              "      <td>female</td>\n",
              "      <td>25.0000</td>\n",
              "      <td>1</td>\n",
              "      <td>2</td>\n",
              "      <td>113781</td>\n",
              "      <td>151.5500</td>\n",
              "      <td>C22 C26</td>\n",
              "      <td>S</td>\n",
              "      <td>NaN</td>\n",
              "      <td>Montreal, PQ / Chesterville, ON</td>\n",
              "    </tr>\n",
              "  </tbody>\n",
              "</table>\n",
              "</div>"
            ],
            "text/plain": [
              "   pclass  survived                                             name     sex  \\\n",
              "0       1         1                    Allen, Miss. Elisabeth Walton  female   \n",
              "1       1         1                   Allison, Master. Hudson Trevor    male   \n",
              "2       1         0                     Allison, Miss. Helen Loraine  female   \n",
              "3       1         0             Allison, Mr. Hudson Joshua Creighton    male   \n",
              "4       1         0  Allison, Mrs. Hudson J C (Bessie Waldo Daniels)  female   \n",
              "\n",
              "       age  sibsp  parch  ticket      fare    cabin embarked boat  \\\n",
              "0  29.0000      0      0   24160  211.3375       B5        S    2   \n",
              "1   0.9167      1      2  113781  151.5500  C22 C26        S   11   \n",
              "2   2.0000      1      2  113781  151.5500  C22 C26        S  NaN   \n",
              "3  30.0000      1      2  113781  151.5500  C22 C26        S  NaN   \n",
              "4  25.0000      1      2  113781  151.5500  C22 C26        S  NaN   \n",
              "\n",
              "                         home.dest  \n",
              "0                     St Louis, MO  \n",
              "1  Montreal, PQ / Chesterville, ON  \n",
              "2  Montreal, PQ / Chesterville, ON  \n",
              "3  Montreal, PQ / Chesterville, ON  \n",
              "4  Montreal, PQ / Chesterville, ON  "
            ]
          },
          "execution_count": 2,
          "metadata": {},
          "output_type": "execute_result"
        }
      ],
      "source": [
        "df = pd.read_excel('titanic_dataset.xls')\n",
        "df.head()"
      ]
    },
    {
      "cell_type": "code",
      "execution_count": null,
      "metadata": {
        "id": "95uhbJRkZO3W",
        "outputId": "c8ef9071-90cf-43ff-8cda-9fbe7bb26467"
      },
      "outputs": [
        {
          "data": {
            "text/html": [
              "<div>\n",
              "<style scoped>\n",
              "    .dataframe tbody tr th:only-of-type {\n",
              "        vertical-align: middle;\n",
              "    }\n",
              "\n",
              "    .dataframe tbody tr th {\n",
              "        vertical-align: top;\n",
              "    }\n",
              "\n",
              "    .dataframe thead th {\n",
              "        text-align: right;\n",
              "    }\n",
              "</style>\n",
              "<table border=\"1\" class=\"dataframe\">\n",
              "  <thead>\n",
              "    <tr style=\"text-align: right;\">\n",
              "      <th></th>\n",
              "      <th>pclass</th>\n",
              "      <th>survived</th>\n",
              "      <th>sex</th>\n",
              "      <th>age</th>\n",
              "      <th>sibsp</th>\n",
              "      <th>parch</th>\n",
              "      <th>ticket</th>\n",
              "      <th>fare</th>\n",
              "      <th>cabin</th>\n",
              "      <th>embarked</th>\n",
              "      <th>boat</th>\n",
              "      <th>home.dest</th>\n",
              "    </tr>\n",
              "  </thead>\n",
              "  <tbody>\n",
              "    <tr>\n",
              "      <th>0</th>\n",
              "      <td>1</td>\n",
              "      <td>1</td>\n",
              "      <td>female</td>\n",
              "      <td>29.0000</td>\n",
              "      <td>0</td>\n",
              "      <td>0</td>\n",
              "      <td>24160</td>\n",
              "      <td>211.3375</td>\n",
              "      <td>B5</td>\n",
              "      <td>S</td>\n",
              "      <td>2</td>\n",
              "      <td>St Louis, MO</td>\n",
              "    </tr>\n",
              "    <tr>\n",
              "      <th>1</th>\n",
              "      <td>1</td>\n",
              "      <td>1</td>\n",
              "      <td>male</td>\n",
              "      <td>0.9167</td>\n",
              "      <td>1</td>\n",
              "      <td>2</td>\n",
              "      <td>113781</td>\n",
              "      <td>151.5500</td>\n",
              "      <td>C22 C26</td>\n",
              "      <td>S</td>\n",
              "      <td>11</td>\n",
              "      <td>Montreal, PQ / Chesterville, ON</td>\n",
              "    </tr>\n",
              "    <tr>\n",
              "      <th>2</th>\n",
              "      <td>1</td>\n",
              "      <td>0</td>\n",
              "      <td>female</td>\n",
              "      <td>2.0000</td>\n",
              "      <td>1</td>\n",
              "      <td>2</td>\n",
              "      <td>113781</td>\n",
              "      <td>151.5500</td>\n",
              "      <td>C22 C26</td>\n",
              "      <td>S</td>\n",
              "      <td>NaN</td>\n",
              "      <td>Montreal, PQ / Chesterville, ON</td>\n",
              "    </tr>\n",
              "    <tr>\n",
              "      <th>3</th>\n",
              "      <td>1</td>\n",
              "      <td>0</td>\n",
              "      <td>male</td>\n",
              "      <td>30.0000</td>\n",
              "      <td>1</td>\n",
              "      <td>2</td>\n",
              "      <td>113781</td>\n",
              "      <td>151.5500</td>\n",
              "      <td>C22 C26</td>\n",
              "      <td>S</td>\n",
              "      <td>NaN</td>\n",
              "      <td>Montreal, PQ / Chesterville, ON</td>\n",
              "    </tr>\n",
              "    <tr>\n",
              "      <th>4</th>\n",
              "      <td>1</td>\n",
              "      <td>0</td>\n",
              "      <td>female</td>\n",
              "      <td>25.0000</td>\n",
              "      <td>1</td>\n",
              "      <td>2</td>\n",
              "      <td>113781</td>\n",
              "      <td>151.5500</td>\n",
              "      <td>C22 C26</td>\n",
              "      <td>S</td>\n",
              "      <td>NaN</td>\n",
              "      <td>Montreal, PQ / Chesterville, ON</td>\n",
              "    </tr>\n",
              "  </tbody>\n",
              "</table>\n",
              "</div>"
            ],
            "text/plain": [
              "   pclass  survived     sex      age  sibsp  parch  ticket      fare    cabin  \\\n",
              "0       1         1  female  29.0000      0      0   24160  211.3375       B5   \n",
              "1       1         1    male   0.9167      1      2  113781  151.5500  C22 C26   \n",
              "2       1         0  female   2.0000      1      2  113781  151.5500  C22 C26   \n",
              "3       1         0    male  30.0000      1      2  113781  151.5500  C22 C26   \n",
              "4       1         0  female  25.0000      1      2  113781  151.5500  C22 C26   \n",
              "\n",
              "  embarked boat                        home.dest  \n",
              "0        S    2                     St Louis, MO  \n",
              "1        S   11  Montreal, PQ / Chesterville, ON  \n",
              "2        S  NaN  Montreal, PQ / Chesterville, ON  \n",
              "3        S  NaN  Montreal, PQ / Chesterville, ON  \n",
              "4        S  NaN  Montreal, PQ / Chesterville, ON  "
            ]
          },
          "execution_count": 3,
          "metadata": {},
          "output_type": "execute_result"
        }
      ],
      "source": [
        "df.drop(['name'], axis=1, inplace=True)\n",
        "df.head()"
      ]
    },
    {
      "cell_type": "code",
      "execution_count": null,
      "metadata": {
        "id": "ZHsDoDFRZO3Y"
      },
      "outputs": [],
      "source": [
        "def handle_non_numerical_data(df):\n",
        "    columns = df.columns.values\n",
        "\n",
        "    for column in columns:\n",
        "        text_digit_vals = {}\n",
        "        def convert_to_int(val):\n",
        "            return text_digit_vals[val]\n",
        "\n",
        "        if df[column].dtype != np.int64 and df[column].dtype != np.float64:\n",
        "            column_contents = df[column].values.tolist()\n",
        "            unique_elements = set(column_contents)\n",
        "            x = 0\n",
        "            for unique in unique_elements:\n",
        "                if unique not in text_digit_vals:\n",
        "                    text_digit_vals[unique] = x\n",
        "                    x+=1\n",
        "\n",
        "            df[column] = list(map(convert_to_int, df[column]))\n",
        "\n",
        "    return df\n",
        "\n",
        "df = handle_non_numerical_data(df)"
      ]
    },
    {
      "cell_type": "code",
      "execution_count": null,
      "metadata": {
        "id": "j1j2tRgiZO3r",
        "outputId": "e0bdee64-b25a-4e49-9fc8-482aa2c14362"
      },
      "outputs": [
        {
          "data": {
            "text/html": [
              "<div>\n",
              "<style scoped>\n",
              "    .dataframe tbody tr th:only-of-type {\n",
              "        vertical-align: middle;\n",
              "    }\n",
              "\n",
              "    .dataframe tbody tr th {\n",
              "        vertical-align: top;\n",
              "    }\n",
              "\n",
              "    .dataframe thead th {\n",
              "        text-align: right;\n",
              "    }\n",
              "</style>\n",
              "<table border=\"1\" class=\"dataframe\">\n",
              "  <thead>\n",
              "    <tr style=\"text-align: right;\">\n",
              "      <th></th>\n",
              "      <th>pclass</th>\n",
              "      <th>survived</th>\n",
              "      <th>sex</th>\n",
              "      <th>age</th>\n",
              "      <th>sibsp</th>\n",
              "      <th>parch</th>\n",
              "      <th>ticket</th>\n",
              "      <th>fare</th>\n",
              "      <th>cabin</th>\n",
              "      <th>embarked</th>\n",
              "      <th>boat</th>\n",
              "      <th>home.dest</th>\n",
              "    </tr>\n",
              "  </thead>\n",
              "  <tbody>\n",
              "    <tr>\n",
              "      <th>0</th>\n",
              "      <td>1</td>\n",
              "      <td>1</td>\n",
              "      <td>1</td>\n",
              "      <td>29.0000</td>\n",
              "      <td>0</td>\n",
              "      <td>0</td>\n",
              "      <td>750</td>\n",
              "      <td>211.3375</td>\n",
              "      <td>169</td>\n",
              "      <td>3</td>\n",
              "      <td>1</td>\n",
              "      <td>227</td>\n",
              "    </tr>\n",
              "    <tr>\n",
              "      <th>1</th>\n",
              "      <td>1</td>\n",
              "      <td>1</td>\n",
              "      <td>0</td>\n",
              "      <td>0.9167</td>\n",
              "      <td>1</td>\n",
              "      <td>2</td>\n",
              "      <td>512</td>\n",
              "      <td>151.5500</td>\n",
              "      <td>112</td>\n",
              "      <td>3</td>\n",
              "      <td>18</td>\n",
              "      <td>277</td>\n",
              "    </tr>\n",
              "    <tr>\n",
              "      <th>2</th>\n",
              "      <td>1</td>\n",
              "      <td>0</td>\n",
              "      <td>1</td>\n",
              "      <td>2.0000</td>\n",
              "      <td>1</td>\n",
              "      <td>2</td>\n",
              "      <td>512</td>\n",
              "      <td>151.5500</td>\n",
              "      <td>112</td>\n",
              "      <td>3</td>\n",
              "      <td>0</td>\n",
              "      <td>277</td>\n",
              "    </tr>\n",
              "    <tr>\n",
              "      <th>3</th>\n",
              "      <td>1</td>\n",
              "      <td>0</td>\n",
              "      <td>0</td>\n",
              "      <td>30.0000</td>\n",
              "      <td>1</td>\n",
              "      <td>2</td>\n",
              "      <td>512</td>\n",
              "      <td>151.5500</td>\n",
              "      <td>112</td>\n",
              "      <td>3</td>\n",
              "      <td>0</td>\n",
              "      <td>277</td>\n",
              "    </tr>\n",
              "    <tr>\n",
              "      <th>4</th>\n",
              "      <td>1</td>\n",
              "      <td>0</td>\n",
              "      <td>1</td>\n",
              "      <td>25.0000</td>\n",
              "      <td>1</td>\n",
              "      <td>2</td>\n",
              "      <td>512</td>\n",
              "      <td>151.5500</td>\n",
              "      <td>112</td>\n",
              "      <td>3</td>\n",
              "      <td>0</td>\n",
              "      <td>277</td>\n",
              "    </tr>\n",
              "  </tbody>\n",
              "</table>\n",
              "</div>"
            ],
            "text/plain": [
              "   pclass  survived  sex      age  sibsp  parch  ticket      fare  cabin  \\\n",
              "0       1         1    1  29.0000      0      0     750  211.3375    169   \n",
              "1       1         1    0   0.9167      1      2     512  151.5500    112   \n",
              "2       1         0    1   2.0000      1      2     512  151.5500    112   \n",
              "3       1         0    0  30.0000      1      2     512  151.5500    112   \n",
              "4       1         0    1  25.0000      1      2     512  151.5500    112   \n",
              "\n",
              "   embarked  boat  home.dest  \n",
              "0         3     1        227  \n",
              "1         3    18        277  \n",
              "2         3     0        277  \n",
              "3         3     0        277  \n",
              "4         3     0        277  "
            ]
          },
          "execution_count": 5,
          "metadata": {},
          "output_type": "execute_result"
        }
      ],
      "source": [
        "df.head()"
      ]
    },
    {
      "cell_type": "code",
      "execution_count": null,
      "metadata": {
        "id": "elqVhi89ZO3t",
        "outputId": "1e96dcf8-c98c-4597-f271-7463bcf42b0c"
      },
      "outputs": [
        {
          "data": {
            "text/html": [
              "<div>\n",
              "<style scoped>\n",
              "    .dataframe tbody tr th:only-of-type {\n",
              "        vertical-align: middle;\n",
              "    }\n",
              "\n",
              "    .dataframe tbody tr th {\n",
              "        vertical-align: top;\n",
              "    }\n",
              "\n",
              "    .dataframe thead th {\n",
              "        text-align: right;\n",
              "    }\n",
              "</style>\n",
              "<table border=\"1\" class=\"dataframe\">\n",
              "  <thead>\n",
              "    <tr style=\"text-align: right;\">\n",
              "      <th></th>\n",
              "      <th>pclass</th>\n",
              "      <th>survived</th>\n",
              "      <th>sex</th>\n",
              "      <th>age</th>\n",
              "      <th>sibsp</th>\n",
              "      <th>parch</th>\n",
              "      <th>ticket</th>\n",
              "      <th>fare</th>\n",
              "      <th>cabin</th>\n",
              "      <th>embarked</th>\n",
              "      <th>boat</th>\n",
              "      <th>home.dest</th>\n",
              "    </tr>\n",
              "  </thead>\n",
              "  <tbody>\n",
              "    <tr>\n",
              "      <th>0</th>\n",
              "      <td>False</td>\n",
              "      <td>False</td>\n",
              "      <td>False</td>\n",
              "      <td>False</td>\n",
              "      <td>False</td>\n",
              "      <td>False</td>\n",
              "      <td>False</td>\n",
              "      <td>False</td>\n",
              "      <td>False</td>\n",
              "      <td>False</td>\n",
              "      <td>False</td>\n",
              "      <td>False</td>\n",
              "    </tr>\n",
              "    <tr>\n",
              "      <th>1</th>\n",
              "      <td>False</td>\n",
              "      <td>False</td>\n",
              "      <td>False</td>\n",
              "      <td>False</td>\n",
              "      <td>False</td>\n",
              "      <td>False</td>\n",
              "      <td>False</td>\n",
              "      <td>False</td>\n",
              "      <td>False</td>\n",
              "      <td>False</td>\n",
              "      <td>False</td>\n",
              "      <td>False</td>\n",
              "    </tr>\n",
              "    <tr>\n",
              "      <th>2</th>\n",
              "      <td>False</td>\n",
              "      <td>False</td>\n",
              "      <td>False</td>\n",
              "      <td>False</td>\n",
              "      <td>False</td>\n",
              "      <td>False</td>\n",
              "      <td>False</td>\n",
              "      <td>False</td>\n",
              "      <td>False</td>\n",
              "      <td>False</td>\n",
              "      <td>False</td>\n",
              "      <td>False</td>\n",
              "    </tr>\n",
              "    <tr>\n",
              "      <th>3</th>\n",
              "      <td>False</td>\n",
              "      <td>False</td>\n",
              "      <td>False</td>\n",
              "      <td>False</td>\n",
              "      <td>False</td>\n",
              "      <td>False</td>\n",
              "      <td>False</td>\n",
              "      <td>False</td>\n",
              "      <td>False</td>\n",
              "      <td>False</td>\n",
              "      <td>False</td>\n",
              "      <td>False</td>\n",
              "    </tr>\n",
              "    <tr>\n",
              "      <th>4</th>\n",
              "      <td>False</td>\n",
              "      <td>False</td>\n",
              "      <td>False</td>\n",
              "      <td>False</td>\n",
              "      <td>False</td>\n",
              "      <td>False</td>\n",
              "      <td>False</td>\n",
              "      <td>False</td>\n",
              "      <td>False</td>\n",
              "      <td>False</td>\n",
              "      <td>False</td>\n",
              "      <td>False</td>\n",
              "    </tr>\n",
              "  </tbody>\n",
              "</table>\n",
              "</div>"
            ],
            "text/plain": [
              "   pclass  survived    sex    age  sibsp  parch  ticket   fare  cabin  \\\n",
              "0   False     False  False  False  False  False   False  False  False   \n",
              "1   False     False  False  False  False  False   False  False  False   \n",
              "2   False     False  False  False  False  False   False  False  False   \n",
              "3   False     False  False  False  False  False   False  False  False   \n",
              "4   False     False  False  False  False  False   False  False  False   \n",
              "\n",
              "   embarked   boat  home.dest  \n",
              "0     False  False      False  \n",
              "1     False  False      False  \n",
              "2     False  False      False  \n",
              "3     False  False      False  \n",
              "4     False  False      False  "
            ]
          },
          "execution_count": 6,
          "metadata": {},
          "output_type": "execute_result"
        }
      ],
      "source": [
        "#pengecekan missing values\n",
        "missing_data = df.isnull()\n",
        "missing_data.head()"
      ]
    },
    {
      "cell_type": "code",
      "execution_count": null,
      "metadata": {
        "id": "3kDQXreSZO3w",
        "outputId": "81619d91-3a16-463b-be85-7b11954033cd"
      },
      "outputs": [
        {
          "name": "stdout",
          "output_type": "stream",
          "text": [
            "pclass\n",
            "False    1309\n",
            "Name: pclass, dtype: int64\n",
            "\n",
            "survived\n",
            "False    1309\n",
            "Name: survived, dtype: int64\n",
            "\n",
            "sex\n",
            "False    1309\n",
            "Name: sex, dtype: int64\n",
            "\n",
            "age\n",
            "False    1046\n",
            "True      263\n",
            "Name: age, dtype: int64\n",
            "\n",
            "sibsp\n",
            "False    1309\n",
            "Name: sibsp, dtype: int64\n",
            "\n",
            "parch\n",
            "False    1309\n",
            "Name: parch, dtype: int64\n",
            "\n",
            "ticket\n",
            "False    1309\n",
            "Name: ticket, dtype: int64\n",
            "\n",
            "fare\n",
            "False    1308\n",
            "True        1\n",
            "Name: fare, dtype: int64\n",
            "\n",
            "cabin\n",
            "False    1309\n",
            "Name: cabin, dtype: int64\n",
            "\n",
            "embarked\n",
            "False    1309\n",
            "Name: embarked, dtype: int64\n",
            "\n",
            "boat\n",
            "False    1309\n",
            "Name: boat, dtype: int64\n",
            "\n",
            "home.dest\n",
            "False    1309\n",
            "Name: home.dest, dtype: int64\n",
            "\n"
          ]
        }
      ],
      "source": [
        "for column in missing_data.columns.values.tolist():\n",
        "    print(column)\n",
        "    print(missing_data[column].value_counts())\n",
        "    print(\"\")"
      ]
    },
    {
      "cell_type": "code",
      "execution_count": null,
      "metadata": {
        "id": "yriKNtENZO3z",
        "outputId": "d5a35bbf-6dd4-46bb-e556-0358b7e50304"
      },
      "outputs": [
        {
          "name": "stdout",
          "output_type": "stream",
          "text": [
            "29.8811345124283\n",
            "33.29547928134572\n"
          ]
        }
      ],
      "source": [
        "rata1 = df['age'].astype('float').mean(axis=0)\n",
        "rata2 = df['fare'].astype('float').mean(axis=0)\n",
        "print(rata1)\n",
        "print(rata2)"
      ]
    },
    {
      "cell_type": "code",
      "execution_count": null,
      "metadata": {
        "id": "4-pfrQ67ZO30",
        "outputId": "8fe8df60-972b-464e-f854-ae31683ac61c"
      },
      "outputs": [
        {
          "data": {
            "text/html": [
              "<div>\n",
              "<style scoped>\n",
              "    .dataframe tbody tr th:only-of-type {\n",
              "        vertical-align: middle;\n",
              "    }\n",
              "\n",
              "    .dataframe tbody tr th {\n",
              "        vertical-align: top;\n",
              "    }\n",
              "\n",
              "    .dataframe thead th {\n",
              "        text-align: right;\n",
              "    }\n",
              "</style>\n",
              "<table border=\"1\" class=\"dataframe\">\n",
              "  <thead>\n",
              "    <tr style=\"text-align: right;\">\n",
              "      <th></th>\n",
              "      <th>pclass</th>\n",
              "      <th>survived</th>\n",
              "      <th>sex</th>\n",
              "      <th>age</th>\n",
              "      <th>sibsp</th>\n",
              "      <th>parch</th>\n",
              "      <th>ticket</th>\n",
              "      <th>fare</th>\n",
              "      <th>cabin</th>\n",
              "      <th>embarked</th>\n",
              "      <th>boat</th>\n",
              "      <th>home.dest</th>\n",
              "    </tr>\n",
              "  </thead>\n",
              "  <tbody>\n",
              "    <tr>\n",
              "      <th>0</th>\n",
              "      <td>1</td>\n",
              "      <td>1</td>\n",
              "      <td>1</td>\n",
              "      <td>29.0000</td>\n",
              "      <td>0</td>\n",
              "      <td>0</td>\n",
              "      <td>750</td>\n",
              "      <td>211.3375</td>\n",
              "      <td>169</td>\n",
              "      <td>3</td>\n",
              "      <td>1</td>\n",
              "      <td>227</td>\n",
              "    </tr>\n",
              "    <tr>\n",
              "      <th>1</th>\n",
              "      <td>1</td>\n",
              "      <td>1</td>\n",
              "      <td>0</td>\n",
              "      <td>0.9167</td>\n",
              "      <td>1</td>\n",
              "      <td>2</td>\n",
              "      <td>512</td>\n",
              "      <td>151.5500</td>\n",
              "      <td>112</td>\n",
              "      <td>3</td>\n",
              "      <td>18</td>\n",
              "      <td>277</td>\n",
              "    </tr>\n",
              "    <tr>\n",
              "      <th>2</th>\n",
              "      <td>1</td>\n",
              "      <td>0</td>\n",
              "      <td>1</td>\n",
              "      <td>2.0000</td>\n",
              "      <td>1</td>\n",
              "      <td>2</td>\n",
              "      <td>512</td>\n",
              "      <td>151.5500</td>\n",
              "      <td>112</td>\n",
              "      <td>3</td>\n",
              "      <td>0</td>\n",
              "      <td>277</td>\n",
              "    </tr>\n",
              "    <tr>\n",
              "      <th>3</th>\n",
              "      <td>1</td>\n",
              "      <td>0</td>\n",
              "      <td>0</td>\n",
              "      <td>30.0000</td>\n",
              "      <td>1</td>\n",
              "      <td>2</td>\n",
              "      <td>512</td>\n",
              "      <td>151.5500</td>\n",
              "      <td>112</td>\n",
              "      <td>3</td>\n",
              "      <td>0</td>\n",
              "      <td>277</td>\n",
              "    </tr>\n",
              "    <tr>\n",
              "      <th>4</th>\n",
              "      <td>1</td>\n",
              "      <td>0</td>\n",
              "      <td>1</td>\n",
              "      <td>25.0000</td>\n",
              "      <td>1</td>\n",
              "      <td>2</td>\n",
              "      <td>512</td>\n",
              "      <td>151.5500</td>\n",
              "      <td>112</td>\n",
              "      <td>3</td>\n",
              "      <td>0</td>\n",
              "      <td>277</td>\n",
              "    </tr>\n",
              "  </tbody>\n",
              "</table>\n",
              "</div>"
            ],
            "text/plain": [
              "   pclass  survived  sex      age  sibsp  parch  ticket      fare  cabin  \\\n",
              "0       1         1    1  29.0000      0      0     750  211.3375    169   \n",
              "1       1         1    0   0.9167      1      2     512  151.5500    112   \n",
              "2       1         0    1   2.0000      1      2     512  151.5500    112   \n",
              "3       1         0    0  30.0000      1      2     512  151.5500    112   \n",
              "4       1         0    1  25.0000      1      2     512  151.5500    112   \n",
              "\n",
              "   embarked  boat  home.dest  \n",
              "0         3     1        227  \n",
              "1         3    18        277  \n",
              "2         3     0        277  \n",
              "3         3     0        277  \n",
              "4         3     0        277  "
            ]
          },
          "execution_count": 9,
          "metadata": {},
          "output_type": "execute_result"
        }
      ],
      "source": [
        "df['age'].replace(np.nan, rata1, inplace = True)\n",
        "df['fare'].replace(np.nan, rata2, inplace = True)\n",
        "df.head()"
      ]
    },
    {
      "cell_type": "code",
      "execution_count": null,
      "metadata": {
        "id": "iGIICMsoZO34",
        "outputId": "85e76c54-427e-49ea-ff3c-321a3a43be1d"
      },
      "outputs": [
        {
          "data": {
            "text/html": [
              "<div>\n",
              "<style scoped>\n",
              "    .dataframe tbody tr th:only-of-type {\n",
              "        vertical-align: middle;\n",
              "    }\n",
              "\n",
              "    .dataframe tbody tr th {\n",
              "        vertical-align: top;\n",
              "    }\n",
              "\n",
              "    .dataframe thead th {\n",
              "        text-align: right;\n",
              "    }\n",
              "</style>\n",
              "<table border=\"1\" class=\"dataframe\">\n",
              "  <thead>\n",
              "    <tr style=\"text-align: right;\">\n",
              "      <th></th>\n",
              "      <th>pclass</th>\n",
              "      <th>survived</th>\n",
              "      <th>sex</th>\n",
              "      <th>age</th>\n",
              "      <th>sibsp</th>\n",
              "      <th>parch</th>\n",
              "      <th>ticket</th>\n",
              "      <th>fare</th>\n",
              "      <th>cabin</th>\n",
              "      <th>embarked</th>\n",
              "      <th>boat</th>\n",
              "      <th>home.dest</th>\n",
              "    </tr>\n",
              "  </thead>\n",
              "  <tbody>\n",
              "    <tr>\n",
              "      <th>0</th>\n",
              "      <td>1</td>\n",
              "      <td>1</td>\n",
              "      <td>1</td>\n",
              "      <td>29.0000</td>\n",
              "      <td>0</td>\n",
              "      <td>0</td>\n",
              "      <td>750</td>\n",
              "      <td>211.3375</td>\n",
              "      <td>169</td>\n",
              "      <td>3</td>\n",
              "      <td>1</td>\n",
              "      <td>227</td>\n",
              "    </tr>\n",
              "    <tr>\n",
              "      <th>1</th>\n",
              "      <td>1</td>\n",
              "      <td>1</td>\n",
              "      <td>0</td>\n",
              "      <td>0.9167</td>\n",
              "      <td>1</td>\n",
              "      <td>2</td>\n",
              "      <td>512</td>\n",
              "      <td>151.5500</td>\n",
              "      <td>112</td>\n",
              "      <td>3</td>\n",
              "      <td>18</td>\n",
              "      <td>277</td>\n",
              "    </tr>\n",
              "    <tr>\n",
              "      <th>2</th>\n",
              "      <td>1</td>\n",
              "      <td>0</td>\n",
              "      <td>1</td>\n",
              "      <td>2.0000</td>\n",
              "      <td>1</td>\n",
              "      <td>2</td>\n",
              "      <td>512</td>\n",
              "      <td>151.5500</td>\n",
              "      <td>112</td>\n",
              "      <td>3</td>\n",
              "      <td>0</td>\n",
              "      <td>277</td>\n",
              "    </tr>\n",
              "    <tr>\n",
              "      <th>3</th>\n",
              "      <td>1</td>\n",
              "      <td>0</td>\n",
              "      <td>0</td>\n",
              "      <td>30.0000</td>\n",
              "      <td>1</td>\n",
              "      <td>2</td>\n",
              "      <td>512</td>\n",
              "      <td>151.5500</td>\n",
              "      <td>112</td>\n",
              "      <td>3</td>\n",
              "      <td>0</td>\n",
              "      <td>277</td>\n",
              "    </tr>\n",
              "    <tr>\n",
              "      <th>4</th>\n",
              "      <td>1</td>\n",
              "      <td>0</td>\n",
              "      <td>1</td>\n",
              "      <td>25.0000</td>\n",
              "      <td>1</td>\n",
              "      <td>2</td>\n",
              "      <td>512</td>\n",
              "      <td>151.5500</td>\n",
              "      <td>112</td>\n",
              "      <td>3</td>\n",
              "      <td>0</td>\n",
              "      <td>277</td>\n",
              "    </tr>\n",
              "  </tbody>\n",
              "</table>\n",
              "</div>"
            ],
            "text/plain": [
              "   pclass  survived  sex      age  sibsp  parch  ticket      fare  cabin  \\\n",
              "0       1         1    1  29.0000      0      0     750  211.3375    169   \n",
              "1       1         1    0   0.9167      1      2     512  151.5500    112   \n",
              "2       1         0    1   2.0000      1      2     512  151.5500    112   \n",
              "3       1         0    0  30.0000      1      2     512  151.5500    112   \n",
              "4       1         0    1  25.0000      1      2     512  151.5500    112   \n",
              "\n",
              "   embarked  boat  home.dest  \n",
              "0         3     1        227  \n",
              "1         3    18        277  \n",
              "2         3     0        277  \n",
              "3         3     0        277  \n",
              "4         3     0        277  "
            ]
          },
          "execution_count": 10,
          "metadata": {},
          "output_type": "execute_result"
        }
      ],
      "source": [
        "df.head()"
      ]
    },
    {
      "cell_type": "code",
      "execution_count": null,
      "metadata": {
        "id": "Vc4v86pEZO36",
        "outputId": "3972ccd6-0a2a-4f0d-b74b-4684f4c6585c"
      },
      "outputs": [
        {
          "data": {
            "text/plain": [
              "pclass         int64\n",
              "survived       int64\n",
              "sex            int64\n",
              "age          float64\n",
              "sibsp          int64\n",
              "parch          int64\n",
              "ticket         int64\n",
              "fare         float64\n",
              "cabin          int64\n",
              "embarked       int64\n",
              "boat           int64\n",
              "home.dest      int64\n",
              "dtype: object"
            ]
          },
          "execution_count": 11,
          "metadata": {},
          "output_type": "execute_result"
        }
      ],
      "source": [
        "df.dtypes"
      ]
    },
    {
      "cell_type": "code",
      "execution_count": null,
      "metadata": {
        "id": "AAJ9v4kAZO37",
        "outputId": "a80a98c5-3c4e-4b0f-d23a-68ef55b821d8"
      },
      "outputs": [
        {
          "data": {
            "text/plain": [
              "array([[  1.    ,   1.    ,  29.    ,   0.    ,   0.    , 750.    ,\n",
              "        211.3375, 169.    ,   3.    ,   1.    , 227.    ],\n",
              "       [  1.    ,   0.    ,   0.9167,   1.    ,   2.    , 512.    ,\n",
              "        151.55  , 112.    ,   3.    ,  18.    , 277.    ],\n",
              "       [  1.    ,   1.    ,   2.    ,   1.    ,   2.    , 512.    ,\n",
              "        151.55  , 112.    ,   3.    ,   0.    , 277.    ],\n",
              "       [  1.    ,   0.    ,  30.    ,   1.    ,   2.    , 512.    ,\n",
              "        151.55  , 112.    ,   3.    ,   0.    , 277.    ],\n",
              "       [  1.    ,   1.    ,  25.    ,   1.    ,   2.    , 512.    ,\n",
              "        151.55  , 112.    ,   3.    ,   0.    , 277.    ]])"
            ]
          },
          "execution_count": 12,
          "metadata": {},
          "output_type": "execute_result"
        }
      ],
      "source": [
        "X_ori = df[['pclass', 'sex', 'age', 'sibsp', 'parch', 'ticket', 'fare', 'cabin', 'embarked', 'boat', 'home.dest']].values  \n",
        "X_ori[0:5]"
      ]
    },
    {
      "cell_type": "code",
      "execution_count": null,
      "metadata": {
        "id": "Sgqa2AMHZO39",
        "outputId": "c3fd4885-4d2b-48af-ea39-26f07e83220b"
      },
      "outputs": [
        {
          "data": {
            "text/plain": [
              "array([1, 1, 0, 0, 0], dtype=int64)"
            ]
          },
          "execution_count": 13,
          "metadata": {},
          "output_type": "execute_result"
        }
      ],
      "source": [
        "Y_ori = df['survived'].values\n",
        "Y_ori[0:5]"
      ]
    },
    {
      "cell_type": "code",
      "execution_count": null,
      "metadata": {
        "id": "YlRPXeq6ZO3_"
      },
      "outputs": [],
      "source": [
        "from sklearn.model_selection import train_test_split"
      ]
    },
    {
      "cell_type": "code",
      "execution_count": null,
      "metadata": {
        "id": "-JGzIHtwZO3_",
        "outputId": "56b68f12-71d3-47cb-af44-d55d1b1d03b8"
      },
      "outputs": [
        {
          "name": "stdout",
          "output_type": "stream",
          "text": [
            "Train set: (1047, 11) (1047,)\n",
            "Test set: (262, 11) (262,)\n"
          ]
        }
      ],
      "source": [
        "X_train, X_test, Y_train, Y_test = train_test_split(X_ori, Y_ori, test_size=0.2, random_state=3)\n",
        "print ('Train set:', X_train.shape,  Y_train.shape)\n",
        "print ('Test set:', X_test.shape,  Y_test.shape)"
      ]
    },
    {
      "cell_type": "code",
      "execution_count": null,
      "metadata": {
        "id": "xIpMtbueZO4C",
        "outputId": "852e8bf9-b7b0-4138-f842-b201d043fdac"
      },
      "outputs": [
        {
          "data": {
            "text/plain": [
              "GaussianNB(priors=None, var_smoothing=1e-09)"
            ]
          },
          "execution_count": 16,
          "metadata": {},
          "output_type": "execute_result"
        }
      ],
      "source": [
        "from sklearn import naive_bayes\n",
        "from sklearn.naive_bayes import GaussianNB\n",
        "from sklearn.metrics import accuracy_score\n",
        "\n",
        "model = GaussianNB()\n",
        "model.fit(X_train, Y_train)"
      ]
    },
    {
      "cell_type": "code",
      "execution_count": null,
      "metadata": {
        "id": "0i6Wuml_ZO4D",
        "outputId": "b6f2bbff-8a8f-4907-e462-026d7d976910"
      },
      "outputs": [
        {
          "name": "stdout",
          "output_type": "stream",
          "text": [
            "Nilai sebenarnya :  [0 1 1 1 1 0 1 0 0 0 0 0 1 1 1 0 1 0 1 1 0 0 1 1 1 0 0 0 1 0 0 1 1 0 1 0 1\n",
            " 1 1 0 1 0 1 0 0 0 1 1 1 0 1 1 0 0 0 0 1 0 0 1 0 1 0 1 1 0 1 0 0 1 0 0 1 0\n",
            " 0 0 1 1 1 1 0 0 1 1 0 1 0 0 0 1 0 0 0 1 1 0 1 1 0 1 1 0 1 0 1 0 0 0 0 0 0\n",
            " 1 0 0 0 0 1 1 1 1 1 1 1 0 1 0 0 0 0 0 0 0 0 0 0 1 1 0 0 0 0 0 0 1 0 0 1 1\n",
            " 1 0 0 0 0 0 1 0 1 0 0 0 1 1 0 1 0 1 0 0 1 0 0 0 1 0 1 1 1 0 1 1 0 0 0 0 0\n",
            " 0 0 0 1 0 0 1 1 0 0 1 0 0 0 0 1 1 1 0 0 0 1 1 1 1 1 0 1 1 0 0 0 0 0 0 1 0\n",
            " 0 1 1 0 1 1 0 0 0 0 0 1 1 1 0 0 1 0 1 0 0 1 1 1 0 0 0 1 0 1 1 0 0 1 0 0 0\n",
            " 1 1 1]\n",
            "Nilai prediksi :  [0 1 1 1 1 0 1 1 0 0 0 0 1 0 1 0 1 0 1 1 0 0 0 1 1 0 0 0 1 0 0 1 0 0 0 0 1\n",
            " 1 1 0 0 0 1 0 0 0 0 1 1 0 1 1 0 0 0 0 1 0 0 1 0 1 1 1 1 0 1 0 1 1 0 0 1 0\n",
            " 0 0 1 1 1 1 0 0 1 1 0 1 0 0 0 1 0 0 0 1 0 0 1 1 0 1 1 0 1 0 1 0 0 0 0 0 0\n",
            " 1 0 0 0 0 1 0 1 1 1 1 1 0 1 0 0 0 0 0 0 1 0 0 1 1 1 0 0 0 0 0 0 1 0 0 1 1\n",
            " 1 0 0 0 0 0 1 0 0 1 0 0 1 0 0 1 0 1 0 0 0 0 0 0 1 0 1 1 1 0 1 1 0 1 0 0 0\n",
            " 0 0 0 1 0 0 1 1 0 0 1 1 1 0 0 1 1 1 0 0 0 1 1 1 1 1 0 1 1 0 0 1 0 0 0 1 0\n",
            " 0 1 1 0 1 1 0 0 0 0 1 1 1 1 0 0 1 0 1 0 0 1 1 1 0 0 0 1 0 1 1 0 0 1 0 0 0\n",
            " 1 1 1]\n"
          ]
        }
      ],
      "source": [
        "Y_pred = model.predict(X_test)\n",
        "print(\"Nilai sebenarnya : \", Y_test)\n",
        "print(\"Nilai prediksi : \", Y_pred)"
      ]
    },
    {
      "cell_type": "code",
      "execution_count": null,
      "metadata": {
        "id": "7xTeTdPoZO4E",
        "outputId": "430dd75c-95ee-439e-838e-62e3eaf55c50"
      },
      "outputs": [
        {
          "name": "stdout",
          "output_type": "stream",
          "text": [
            "Train set accuracy (Naive Bayes) :  91.78605539637059\n",
            "Test set accuracy (Naive Bayes) :  91.6030534351145\n"
          ]
        }
      ],
      "source": [
        "print(\"Train set accuracy (Naive Bayes) : \", accuracy_score(Y_train, model.predict(X_train))*100)\n",
        "print(\"Test set accuracy (Naive Bayes) : \", accuracy_score(Y_test, Y_pred)*100)"
      ]
    },
    {
      "cell_type": "code",
      "execution_count": null,
      "metadata": {
        "id": "g1u1XxERZO4H",
        "outputId": "96390c00-68e0-4a7d-f038-8acda6b198b7"
      },
      "outputs": [
        {
          "data": {
            "text/plain": [
              "array([[137,  11],\n",
              "       [ 11, 103]], dtype=int64)"
            ]
          },
          "execution_count": 19,
          "metadata": {},
          "output_type": "execute_result"
        }
      ],
      "source": [
        "from sklearn.metrics import confusion_matrix\n",
        "confusion_matrix(Y_test, Y_pred)"
      ]
    },
    {
      "cell_type": "code",
      "execution_count": null,
      "metadata": {
        "id": "rUdl20OaZO4J",
        "outputId": "7ef3d875-b186-4637-8152-a645003a2f9e"
      },
      "outputs": [
        {
          "name": "stdout",
          "output_type": "stream",
          "text": [
            "              precision    recall  f1-score   support\n",
            "\n",
            "           0       0.93      0.93      0.93       148\n",
            "           1       0.90      0.90      0.90       114\n",
            "\n",
            "    accuracy                           0.92       262\n",
            "   macro avg       0.91      0.91      0.91       262\n",
            "weighted avg       0.92      0.92      0.92       262\n",
            "\n"
          ]
        }
      ],
      "source": [
        "from sklearn.metrics import classification_report\n",
        "\n",
        "print(classification_report(Y_test, Y_pred))"
      ]
    },
    {
      "cell_type": "code",
      "execution_count": null,
      "metadata": {
        "id": "FpMR-dWWZO4L"
      },
      "outputs": [],
      "source": [
        "%matplotlib inline\n",
        "import matplotlib as mpl\n",
        "import matplotlib.pyplot as plt\n",
        "mpl.style.use(['seaborn'])"
      ]
    },
    {
      "cell_type": "code",
      "execution_count": null,
      "metadata": {
        "id": "C4rBF9W6ZO4N",
        "outputId": "8184f350-0128-4200-c755-853e15cf7a7c"
      },
      "outputs": [
        {
          "name": "stdout",
          "output_type": "stream",
          "text": [
            "Jumlah data penumpang not survive (0) dan survived(1) pada nilai sebenarnya: \n",
            "[[  0   1]\n",
            " [148 114]]\n"
          ]
        }
      ],
      "source": [
        "unique, counts_act = np.unique(Y_test, return_counts=True)\n",
        "print('Jumlah data penumpang not survive (0) dan survived(1) pada nilai sebenarnya: ')\n",
        "print(np.asarray((unique, counts_act)))"
      ]
    },
    {
      "cell_type": "code",
      "execution_count": null,
      "metadata": {
        "id": "i5L00GKMZO4O",
        "outputId": "4cadf771-cf6d-431e-cb0f-e64dcb2695e7"
      },
      "outputs": [
        {
          "name": "stdout",
          "output_type": "stream",
          "text": [
            "Jumlah data penumpang not survive (0) dan survived(1) pada nilai prediksi: \n",
            "[[  0   1]\n",
            " [148 114]]\n"
          ]
        }
      ],
      "source": [
        "unique, counts_pred = np.unique(Y_pred, return_counts=True)\n",
        "print('Jumlah data penumpang not survive (0) dan survived(1) pada nilai prediksi: ')\n",
        "print(np.asarray((unique, counts_pred)))"
      ]
    },
    {
      "cell_type": "code",
      "execution_count": null,
      "metadata": {
        "id": "pw7719m4ZO4U",
        "outputId": "8d0b4e1f-d51e-41d8-857d-c5362c26fce1"
      },
      "outputs": [
        {
          "data": {
            "image/png": "[encoded data removed]",
            "text/plain": [
              "<Figure size 432x288 with 1 Axes>"
            ]
          },
          "metadata": {
            "needs_background": "light"
          },
          "output_type": "display_data"
        }
      ],
      "source": [
        "N = 2\n",
        "actual_count = counts_act\n",
        "pred_count = counts_pred\n",
        "\n",
        "fig, ax = plt.subplots()\n",
        "\n",
        "ind = np.arange(N)\n",
        "width = 0.35\n",
        "\n",
        "actual = ax.bar(ind, actual_count, width, color='darkseagreen')\n",
        "predict = ax.bar(ind+width, pred_count, width, color='firebrick')\n",
        "\n",
        "ax.set_xticks(ind + width / 2)\n",
        "ax.set_xticklabels(('Not Survived (0)', 'Survived (1)'))\n",
        "\n",
        "plt.title('Hasil perbandingan antara nilai actual dengan predicted')\n",
        "ax.legend((actual[0], predict[0]), ('Actual', 'Predicted'))\n",
        "ax.autoscale_view()\n",
        "\n",
        "plt.show()"
      ]
    },
    {
      "cell_type": "markdown",
      "metadata": {
        "id": "yJ8SpRUgZO4W"
      },
      "source": [
        "---"
      ]
    },
    {
      "cell_type": "markdown",
      "metadata": {
        "id": "5WD3q5kgZO4X"
      },
      "source": [
        "# Menggunakan Feature Selection Chi Square"
      ]
    },
    {
      "cell_type": "code",
      "execution_count": null,
      "metadata": {
        "id": "Qv9_gLuzZO4X",
        "outputId": "d3b9771f-8a52-412b-c7d1-683b581e80da"
      },
      "outputs": [
        {
          "data": {
            "text/html": [
              "<div>\n",
              "<style scoped>\n",
              "    .dataframe tbody tr th:only-of-type {\n",
              "        vertical-align: middle;\n",
              "    }\n",
              "\n",
              "    .dataframe tbody tr th {\n",
              "        vertical-align: top;\n",
              "    }\n",
              "\n",
              "    .dataframe thead th {\n",
              "        text-align: right;\n",
              "    }\n",
              "</style>\n",
              "<table border=\"1\" class=\"dataframe\">\n",
              "  <thead>\n",
              "    <tr style=\"text-align: right;\">\n",
              "      <th></th>\n",
              "      <th>pclass</th>\n",
              "      <th>sex</th>\n",
              "      <th>age</th>\n",
              "      <th>sibsp</th>\n",
              "      <th>parch</th>\n",
              "      <th>ticket</th>\n",
              "      <th>fare</th>\n",
              "      <th>cabin</th>\n",
              "      <th>embarked</th>\n",
              "      <th>boat</th>\n",
              "      <th>home.dest</th>\n",
              "    </tr>\n",
              "  </thead>\n",
              "  <tbody>\n",
              "    <tr>\n",
              "      <th>0</th>\n",
              "      <td>1</td>\n",
              "      <td>1</td>\n",
              "      <td>29.0000</td>\n",
              "      <td>0</td>\n",
              "      <td>0</td>\n",
              "      <td>750</td>\n",
              "      <td>211.3375</td>\n",
              "      <td>169</td>\n",
              "      <td>3</td>\n",
              "      <td>1</td>\n",
              "      <td>227</td>\n",
              "    </tr>\n",
              "    <tr>\n",
              "      <th>1</th>\n",
              "      <td>1</td>\n",
              "      <td>0</td>\n",
              "      <td>0.9167</td>\n",
              "      <td>1</td>\n",
              "      <td>2</td>\n",
              "      <td>512</td>\n",
              "      <td>151.5500</td>\n",
              "      <td>112</td>\n",
              "      <td>3</td>\n",
              "      <td>18</td>\n",
              "      <td>277</td>\n",
              "    </tr>\n",
              "    <tr>\n",
              "      <th>2</th>\n",
              "      <td>1</td>\n",
              "      <td>1</td>\n",
              "      <td>2.0000</td>\n",
              "      <td>1</td>\n",
              "      <td>2</td>\n",
              "      <td>512</td>\n",
              "      <td>151.5500</td>\n",
              "      <td>112</td>\n",
              "      <td>3</td>\n",
              "      <td>0</td>\n",
              "      <td>277</td>\n",
              "    </tr>\n",
              "    <tr>\n",
              "      <th>3</th>\n",
              "      <td>1</td>\n",
              "      <td>0</td>\n",
              "      <td>30.0000</td>\n",
              "      <td>1</td>\n",
              "      <td>2</td>\n",
              "      <td>512</td>\n",
              "      <td>151.5500</td>\n",
              "      <td>112</td>\n",
              "      <td>3</td>\n",
              "      <td>0</td>\n",
              "      <td>277</td>\n",
              "    </tr>\n",
              "    <tr>\n",
              "      <th>4</th>\n",
              "      <td>1</td>\n",
              "      <td>1</td>\n",
              "      <td>25.0000</td>\n",
              "      <td>1</td>\n",
              "      <td>2</td>\n",
              "      <td>512</td>\n",
              "      <td>151.5500</td>\n",
              "      <td>112</td>\n",
              "      <td>3</td>\n",
              "      <td>0</td>\n",
              "      <td>277</td>\n",
              "    </tr>\n",
              "  </tbody>\n",
              "</table>\n",
              "</div>"
            ],
            "text/plain": [
              "   pclass  sex      age  sibsp  parch  ticket      fare  cabin  embarked  \\\n",
              "0       1    1  29.0000      0      0     750  211.3375    169         3   \n",
              "1       1    0   0.9167      1      2     512  151.5500    112         3   \n",
              "2       1    1   2.0000      1      2     512  151.5500    112         3   \n",
              "3       1    0  30.0000      1      2     512  151.5500    112         3   \n",
              "4       1    1  25.0000      1      2     512  151.5500    112         3   \n",
              "\n",
              "   boat  home.dest  \n",
              "0     1        227  \n",
              "1    18        277  \n",
              "2     0        277  \n",
              "3     0        277  \n",
              "4     0        277  "
            ]
          },
          "execution_count": 25,
          "metadata": {},
          "output_type": "execute_result"
        }
      ],
      "source": [
        "X = df[['pclass', 'sex', 'age', 'sibsp', 'parch', 'ticket', 'fare', 'cabin', 'embarked', 'boat', 'home.dest']] \n",
        "X[0:5]"
      ]
    },
    {
      "cell_type": "code",
      "execution_count": null,
      "metadata": {
        "id": "zbYNGFntZO4Z",
        "outputId": "5c989abb-bea5-4e66-f91a-42a149095614"
      },
      "outputs": [
        {
          "data": {
            "text/html": [
              "<div>\n",
              "<style scoped>\n",
              "    .dataframe tbody tr th:only-of-type {\n",
              "        vertical-align: middle;\n",
              "    }\n",
              "\n",
              "    .dataframe tbody tr th {\n",
              "        vertical-align: top;\n",
              "    }\n",
              "\n",
              "    .dataframe thead th {\n",
              "        text-align: right;\n",
              "    }\n",
              "</style>\n",
              "<table border=\"1\" class=\"dataframe\">\n",
              "  <thead>\n",
              "    <tr style=\"text-align: right;\">\n",
              "      <th></th>\n",
              "      <th>survived</th>\n",
              "    </tr>\n",
              "  </thead>\n",
              "  <tbody>\n",
              "    <tr>\n",
              "      <th>0</th>\n",
              "      <td>1</td>\n",
              "    </tr>\n",
              "    <tr>\n",
              "      <th>1</th>\n",
              "      <td>1</td>\n",
              "    </tr>\n",
              "    <tr>\n",
              "      <th>2</th>\n",
              "      <td>0</td>\n",
              "    </tr>\n",
              "    <tr>\n",
              "      <th>3</th>\n",
              "      <td>0</td>\n",
              "    </tr>\n",
              "    <tr>\n",
              "      <th>4</th>\n",
              "      <td>0</td>\n",
              "    </tr>\n",
              "  </tbody>\n",
              "</table>\n",
              "</div>"
            ],
            "text/plain": [
              "   survived\n",
              "0         1\n",
              "1         1\n",
              "2         0\n",
              "3         0\n",
              "4         0"
            ]
          },
          "execution_count": 26,
          "metadata": {},
          "output_type": "execute_result"
        }
      ],
      "source": [
        "Y = df[['survived']]\n",
        "Y[0:5]"
      ]
    },
    {
      "cell_type": "code",
      "execution_count": null,
      "metadata": {
        "id": "yeoyK6hvZO4a"
      },
      "outputs": [],
      "source": [
        "from sklearn.feature_selection import SelectKBest\n",
        "from sklearn.feature_selection import chi2"
      ]
    },
    {
      "cell_type": "code",
      "execution_count": null,
      "metadata": {
        "id": "-2R6pmMEZO4b",
        "outputId": "66e87725-895e-48c5-ff92-14bc25acb966"
      },
      "outputs": [
        {
          "data": {
            "text/html": [
              "<div>\n",
              "<style scoped>\n",
              "    .dataframe tbody tr th:only-of-type {\n",
              "        vertical-align: middle;\n",
              "    }\n",
              "\n",
              "    .dataframe tbody tr th {\n",
              "        vertical-align: top;\n",
              "    }\n",
              "\n",
              "    .dataframe thead th {\n",
              "        text-align: right;\n",
              "    }\n",
              "</style>\n",
              "<table border=\"1\" class=\"dataframe\">\n",
              "  <thead>\n",
              "    <tr style=\"text-align: right;\">\n",
              "      <th></th>\n",
              "      <th>pclass</th>\n",
              "      <th>sex</th>\n",
              "      <th>age</th>\n",
              "      <th>fare</th>\n",
              "      <th>cabin</th>\n",
              "      <th>boat</th>\n",
              "      <th>home.dest</th>\n",
              "    </tr>\n",
              "  </thead>\n",
              "  <tbody>\n",
              "    <tr>\n",
              "      <th>0</th>\n",
              "      <td>1.0</td>\n",
              "      <td>1.0</td>\n",
              "      <td>29.0000</td>\n",
              "      <td>211.3375</td>\n",
              "      <td>169.0</td>\n",
              "      <td>1.0</td>\n",
              "      <td>227.0</td>\n",
              "    </tr>\n",
              "    <tr>\n",
              "      <th>1</th>\n",
              "      <td>1.0</td>\n",
              "      <td>0.0</td>\n",
              "      <td>0.9167</td>\n",
              "      <td>151.5500</td>\n",
              "      <td>112.0</td>\n",
              "      <td>18.0</td>\n",
              "      <td>277.0</td>\n",
              "    </tr>\n",
              "    <tr>\n",
              "      <th>2</th>\n",
              "      <td>1.0</td>\n",
              "      <td>1.0</td>\n",
              "      <td>2.0000</td>\n",
              "      <td>151.5500</td>\n",
              "      <td>112.0</td>\n",
              "      <td>0.0</td>\n",
              "      <td>277.0</td>\n",
              "    </tr>\n",
              "    <tr>\n",
              "      <th>3</th>\n",
              "      <td>1.0</td>\n",
              "      <td>0.0</td>\n",
              "      <td>30.0000</td>\n",
              "      <td>151.5500</td>\n",
              "      <td>112.0</td>\n",
              "      <td>0.0</td>\n",
              "      <td>277.0</td>\n",
              "    </tr>\n",
              "    <tr>\n",
              "      <th>4</th>\n",
              "      <td>1.0</td>\n",
              "      <td>1.0</td>\n",
              "      <td>25.0000</td>\n",
              "      <td>151.5500</td>\n",
              "      <td>112.0</td>\n",
              "      <td>0.0</td>\n",
              "      <td>277.0</td>\n",
              "    </tr>\n",
              "  </tbody>\n",
              "</table>\n",
              "</div>"
            ],
            "text/plain": [
              "   pclass  sex      age      fare  cabin  boat  home.dest\n",
              "0     1.0  1.0  29.0000  211.3375  169.0   1.0      227.0\n",
              "1     1.0  0.0   0.9167  151.5500  112.0  18.0      277.0\n",
              "2     1.0  1.0   2.0000  151.5500  112.0   0.0      277.0\n",
              "3     1.0  0.0  30.0000  151.5500  112.0   0.0      277.0\n",
              "4     1.0  1.0  25.0000  151.5500  112.0   0.0      277.0"
            ]
          },
          "execution_count": 28,
          "metadata": {},
          "output_type": "execute_result"
        }
      ],
      "source": [
        "#Seleksi fitur menggunakan chi-square dengan nilai k=7 (dipilih sebanyak 7 fitur yang paling 'important')\n",
        "feature_select = SelectKBest(chi2, k=7) \n",
        "feature_select.fit(X,Y)\n",
        "ix = feature_select.get_support() \n",
        "df_fselect = pd.DataFrame(feature_select.transform(X), columns = X.columns.values[ix])\n",
        "df_fselect.head()"
      ]
    },
    {
      "cell_type": "code",
      "execution_count": null,
      "metadata": {
        "id": "GfvMlAOdZO4c",
        "outputId": "7efa1f3d-d96d-4b33-bf28-1a4fa9cc67b7"
      },
      "outputs": [
        {
          "data": {
            "text/plain": [
              "array([[  1.    ,   1.    ,  29.    , 211.3375, 169.    ,   1.    ,\n",
              "        227.    ],\n",
              "       [  1.    ,   0.    ,   0.9167, 151.55  , 112.    ,  18.    ,\n",
              "        277.    ],\n",
              "       [  1.    ,   1.    ,   2.    , 151.55  , 112.    ,   0.    ,\n",
              "        277.    ],\n",
              "       [  1.    ,   0.    ,  30.    , 151.55  , 112.    ,   0.    ,\n",
              "        277.    ],\n",
              "       [  1.    ,   1.    ,  25.    , 151.55  , 112.    ,   0.    ,\n",
              "        277.    ]])"
            ]
          },
          "execution_count": 29,
          "metadata": {},
          "output_type": "execute_result"
        }
      ],
      "source": [
        "X = df_fselect.values\n",
        "X[0:5]"
      ]
    },
    {
      "cell_type": "code",
      "execution_count": null,
      "metadata": {
        "id": "cYN9OMyBZO4d",
        "outputId": "8844e956-09ea-4dad-fa37-57ff53b9c18c"
      },
      "outputs": [
        {
          "data": {
            "text/plain": [
              "array([1, 1, 0, 0, 0], dtype=int64)"
            ]
          },
          "execution_count": 30,
          "metadata": {},
          "output_type": "execute_result"
        }
      ],
      "source": [
        "Y = df['survived'].values\n",
        "Y[0:5]"
      ]
    },
    {
      "cell_type": "code",
      "execution_count": null,
      "metadata": {
        "id": "MOiUHbOtZO4e",
        "outputId": "6b08909a-3dd1-4926-ac47-6d41c57d8fbf"
      },
      "outputs": [
        {
          "name": "stdout",
          "output_type": "stream",
          "text": [
            "Train set: (1047, 7) (1047,)\n",
            "Test set: (262, 7) (262,)\n"
          ]
        }
      ],
      "source": [
        "X_train_chi, X_test_chi, Y_train_chi, Y_test_chi = train_test_split(X, Y, test_size=0.2, random_state=1)\n",
        "print ('Train set:', X_train_chi.shape,  Y_train_chi.shape)\n",
        "print ('Test set:', X_test_chi.shape,  Y_test_chi.shape)"
      ]
    },
    {
      "cell_type": "code",
      "execution_count": null,
      "metadata": {
        "id": "cRSpCbJ5ZO4f",
        "outputId": "0189936d-dde3-4988-9617-a51ba6f31ec6"
      },
      "outputs": [
        {
          "data": {
            "text/plain": [
              "GaussianNB(priors=None, var_smoothing=1e-09)"
            ]
          },
          "execution_count": 32,
          "metadata": {},
          "output_type": "execute_result"
        }
      ],
      "source": [
        "from sklearn import naive_bayes\n",
        "from sklearn.naive_bayes import GaussianNB\n",
        "from sklearn.metrics import accuracy_score\n",
        "\n",
        "model = GaussianNB()\n",
        "model.fit(X_train_chi, Y_train_chi)"
      ]
    },
    {
      "cell_type": "code",
      "execution_count": null,
      "metadata": {
        "id": "3W5LzftOZO4g",
        "outputId": "797e7b92-9f94-41ba-827c-ce547f14d9a1"
      },
      "outputs": [
        {
          "name": "stdout",
          "output_type": "stream",
          "text": [
            "Nilai sebenarnya :  [0 0 1 0 1 0 0 1 1 0 0 0 0 1 0 1 0 1 0 0 0 0 1 0 0 0 0 0 1 0 0 1 1 0 0 1 1\n",
            " 1 0 1 0 0 0 1 1 0 0 0 0 1 0 0 0 1 0 1 0 0 0 0 0 0 0 0 1 1 1 1 0 0 1 1 0 1\n",
            " 1 0 1 0 1 1 0 0 1 0 1 0 0 0 0 0 0 0 0 0 1 1 0 1 1 0 0 0 0 1 1 1 0 1 1 1 0\n",
            " 0 0 0 1 1 0 1 1 1 0 0 0 0 0 0 1 1 0 1 0 1 0 1 0 0 0 0 0 1 0 0 1 0 0 1 1 0\n",
            " 0 1 0 0 0 0 1 1 0 1 0 0 1 1 0 1 1 0 0 0 1 0 1 0 0 0 0 1 1 0 1 1 0 1 1 1 0\n",
            " 0 0 0 0 1 0 0 1 0 1 1 1 0 0 0 0 0 0 0 0 0 1 1 0 0 0 1 0 0 1 1 1 1 0 0 1 1\n",
            " 0 1 0 1 0 0 0 0 1 1 1 0 1 0 1 1 0 0 1 1 0 0 0 1 1 1 0 1 1 1 0 0 0 0 0 0 1\n",
            " 0 0 1]\n",
            "Nilai prediksi :  [0 1 1 0 1 0 0 1 1 0 0 0 0 1 0 1 0 0 0 0 0 0 1 0 0 1 0 0 1 0 0 1 1 0 0 1 0\n",
            " 1 0 1 0 0 0 1 1 0 0 1 0 1 0 0 1 1 0 1 0 0 0 0 0 0 0 0 1 1 1 1 0 0 1 1 0 1\n",
            " 1 0 1 0 1 1 0 0 1 1 1 0 0 0 0 0 0 0 0 0 1 1 0 1 1 0 0 0 0 1 1 1 0 0 1 1 0\n",
            " 0 0 0 1 1 0 1 1 1 0 0 0 0 0 0 1 1 0 1 0 1 0 1 0 0 0 0 0 1 0 0 1 0 1 0 1 0\n",
            " 0 1 0 0 0 0 1 1 0 1 0 0 1 1 0 1 1 0 0 0 1 0 1 0 0 0 0 1 0 0 1 1 0 1 1 1 0\n",
            " 0 0 0 0 1 0 0 1 0 1 0 1 0 0 0 0 0 0 0 0 0 1 1 0 0 0 1 0 0 1 1 1 1 0 0 1 1\n",
            " 0 1 0 1 0 0 0 0 1 1 1 0 1 0 1 1 0 0 1 1 0 1 0 1 1 1 0 1 1 1 0 0 0 0 0 0 1\n",
            " 0 0 1]\n"
          ]
        }
      ],
      "source": [
        "Y_pred_chi = model.predict(X_test_chi)\n",
        "print(\"Nilai sebenarnya : \", Y_test_chi)\n",
        "print(\"Nilai prediksi : \", Y_pred_chi)"
      ]
    },
    {
      "cell_type": "code",
      "execution_count": null,
      "metadata": {
        "id": "6-XUV_vQZO4h",
        "outputId": "bf6c5def-03ad-493e-80ea-8ad98c566f9f"
      },
      "outputs": [
        {
          "name": "stdout",
          "output_type": "stream",
          "text": [
            "Train set accuracy (Naive Bayes) :  91.02196752626553\n",
            "Test set accuracy (Naive Bayes) :  95.0381679389313\n"
          ]
        }
      ],
      "source": [
        "print(\"Train set accuracy (Naive Bayes) : \", accuracy_score(Y_train_chi, model.predict(X_train_chi))*100)\n",
        "print(\"Test set accuracy (Naive Bayes) : \", accuracy_score(Y_test_chi, Y_pred_chi)*100)"
      ]
    },
    {
      "cell_type": "code",
      "execution_count": null,
      "metadata": {
        "id": "dZe9edP9ZO4j",
        "outputId": "174c55f7-8176-40f8-95a6-ef32d9a78507"
      },
      "outputs": [
        {
          "data": {
            "text/plain": [
              "array([[149,   7],\n",
              "       [  6, 100]], dtype=int64)"
            ]
          },
          "execution_count": 35,
          "metadata": {},
          "output_type": "execute_result"
        }
      ],
      "source": [
        "from sklearn.metrics import confusion_matrix\n",
        "confusion_matrix(Y_test_chi, Y_pred_chi)"
      ]
    },
    {
      "cell_type": "code",
      "execution_count": null,
      "metadata": {
        "id": "sVojOISIZO4k",
        "outputId": "bea4d7c8-e953-4ed6-df93-007b7fee049b"
      },
      "outputs": [
        {
          "name": "stdout",
          "output_type": "stream",
          "text": [
            "              precision    recall  f1-score   support\n",
            "\n",
            "           0       0.96      0.96      0.96       156\n",
            "           1       0.93      0.94      0.94       106\n",
            "\n",
            "    accuracy                           0.95       262\n",
            "   macro avg       0.95      0.95      0.95       262\n",
            "weighted avg       0.95      0.95      0.95       262\n",
            "\n"
          ]
        }
      ],
      "source": [
        "from sklearn.metrics import classification_report\n",
        "\n",
        "print(classification_report(Y_test_chi, Y_pred_chi))"
      ]
    },
    {
      "cell_type": "code",
      "execution_count": null,
      "metadata": {
        "id": "viGhlRW3ZO4l",
        "outputId": "33904d9f-70a5-4bb4-d305-6213dc7663ba"
      },
      "outputs": [
        {
          "name": "stdout",
          "output_type": "stream",
          "text": [
            "Jumlah data penumpang not survive (0) dan survived(1) pada nilai sebenarnya: \n",
            "[[  0   1]\n",
            " [156 106]]\n"
          ]
        }
      ],
      "source": [
        "unique, counts_act_chi = np.unique(Y_test_chi, return_counts=True)\n",
        "print('Jumlah data penumpang not survive (0) dan survived(1) pada nilai sebenarnya: ')\n",
        "print(np.asarray((unique, counts_act_chi)))"
      ]
    },
    {
      "cell_type": "code",
      "execution_count": null,
      "metadata": {
        "id": "eKQ2vwfsZO4m",
        "outputId": "9e7a189a-9ee3-4572-94ab-659bfe67f39d"
      },
      "outputs": [
        {
          "name": "stdout",
          "output_type": "stream",
          "text": [
            "Jumlah data penumpang not survive (0) dan survived(1) pada nilai prediksi: \n",
            "[[  0   1]\n",
            " [155 107]]\n"
          ]
        }
      ],
      "source": [
        "unique, counts_pred_chi = np.unique(Y_pred_chi, return_counts=True)\n",
        "print('Jumlah data penumpang not survive (0) dan survived(1) pada nilai prediksi: ')\n",
        "print(np.asarray((unique, counts_pred_chi)))"
      ]
    },
    {
      "cell_type": "code",
      "execution_count": null,
      "metadata": {
        "id": "XDamFt4TZO4o",
        "outputId": "9e26b6d6-c951-488c-f58e-fb4a0b6e968c"
      },
      "outputs": [
        {
          "data": {
            "image/png": "[encoded data removed]",
            "text/plain": [
              "<Figure size 432x288 with 1 Axes>"
            ]
          },
          "metadata": {
            "needs_background": "light"
          },
          "output_type": "display_data"
        }
      ],
      "source": [
        "N = 2\n",
        "actual_count_chi = counts_act_chi\n",
        "pred_count_chi = counts_pred_chi\n",
        "\n",
        "fig, ax = plt.subplots()\n",
        "\n",
        "ind = np.arange(N)\n",
        "width = 0.35\n",
        "\n",
        "actual_chi = ax.bar(ind, actual_count_chi, width, color='darkseagreen')\n",
        "predict_chi = ax.bar(ind+width, pred_count_chi, width, color='firebrick')\n",
        "\n",
        "ax.set_xticks(ind + width / 2)\n",
        "ax.set_xticklabels(('Not Survived (0)', 'Survived (1)'))\n",
        "\n",
        "plt.title('Hasil perbandingan antara nilai actual dengan predicted (Menggunakan Feature Selection Chi Square)')\n",
        "ax.legend((actual[0], predict[0]), ('Actual', 'Predicted'))\n",
        "ax.autoscale_view()\n",
        "\n",
        "plt.show()\n"
      ]
    },
    {
      "cell_type": "markdown",
      "metadata": {
        "id": "SG8DYWg1ZO4p"
      },
      "source": [
        "---"
      ]
    },
    {
      "cell_type": "markdown",
      "metadata": {
        "id": "w4L3nnZ8ZO4q"
      },
      "source": [
        "# Analisa Hasil Akhir "
      ]
    },
    {
      "cell_type": "code",
      "execution_count": null,
      "metadata": {
        "id": "0opSxvpTZO4r"
      },
      "outputs": [],
      "source": [
        ""
      ]
    }
  ],
  "metadata": {
    "kernelspec": {
      "display_name": "Python 3",
      "language": "python",
      "name": "python3"
    },
    "language_info": {
      "codemirror_mode": {
        "name": "ipython",
        "version": 3
      },
      "file_extension": ".py",
      "mimetype": "text/x-python",
      "name": "python",
      "nbconvert_exporter": "python",
      "pygments_lexer": "ipython3",
      "version": "3.7.3"
    },
    "colab": {
      "name": "UAS DIP (Trifebi-042, Mujaddid-047, Feranandah-052, Rizka-076, Veronica-080, Wahyu-297).ipynb",
      "provenance": []
    }
  },
  "nbformat": 4,
  "nbformat_minor": 0
}